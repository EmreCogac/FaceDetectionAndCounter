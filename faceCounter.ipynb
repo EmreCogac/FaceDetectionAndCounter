{
 "cells": [
  {
   "cell_type": "code",
   "execution_count": 1,
   "metadata": {},
   "outputs": [],
   "source": [
    "import cv2\n",
    "import numpy as np"
   ]
  },
  {
   "cell_type": "code",
   "execution_count": 8,
   "metadata": {},
   "outputs": [],
   "source": [
    "cam = cv2.VideoCapture(0)\n",
    "\n",
    "classifier  = cv2.CascadeClassifier('./haarcascade_frontalface_default.xml')\n",
    "if cam.isOpened() == False:\n",
    "    print(\"somethings wrong i can feel it\")\n",
    "while cam.isOpened:\n",
    "    ret,frame= cam.read()\n",
    "    if ret == True:\n",
    "        face = classifier.detectMultiScale(frame, scaleFactor=1.3, minNeighbors=6)\n",
    "        \n",
    "        for x,y,w,h in face:\n",
    "          cv2.rectangle(frame,(x,y),(x+w,y+h),(0,255,0),2)\n",
    "          if len(face) > 1:\n",
    "              cv2.putText(frame , text=str(len(face))+\" people\", org=(50,50), fontFace=cv2.FONT_HERSHEY_SIMPLEX,fontScale=1,color=(250,0,0),thickness=3)\n",
    "          else :\n",
    "              cv2.putText(frame , text=str(len(face))+\" person\", org=(50,50), fontFace=cv2.FONT_HERSHEY_SIMPLEX,fontScale=1,color=(250,0,0),thickness=3)    \n",
    "          cv2.putText(frame,text=\"person\",org=(x-10,y-10),fontFace=cv2.FONT_HERSHEY_SIMPLEX,fontScale=2,color=(250,0,0),thickness=1)\n",
    "          \n",
    "        frame = cv2.resize(frame, (1500,1000), fx=0, fy=0, interpolation=cv2.INTER_AREA)\n",
    "        cv2.imshow('video dosya okuma', frame)\n",
    "        if cv2.waitKey(10) & 0xFF == ord('q'):\n",
    "            break\n",
    "    else:\n",
    "        break\n",
    "cam.release()\n",
    "cv2.destroyAllWindows()    "
   ]
  }
 ],
 "metadata": {
  "kernelspec": {
   "display_name": "Python 3",
   "language": "python",
   "name": "python3"
  },
  "language_info": {
   "codemirror_mode": {
    "name": "ipython",
    "version": 3
   },
   "file_extension": ".py",
   "mimetype": "text/x-python",
   "name": "python",
   "nbconvert_exporter": "python",
   "pygments_lexer": "ipython3",
   "version": "3.12.0"
  }
 },
 "nbformat": 4,
 "nbformat_minor": 2
}
